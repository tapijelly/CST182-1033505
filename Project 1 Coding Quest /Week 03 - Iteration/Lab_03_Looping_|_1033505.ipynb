{
  "nbformat": 4,
  "nbformat_minor": 0,
  "metadata": {
    "colab": {
      "provenance": [],
      "include_colab_link": true
    },
    "kernelspec": {
      "name": "python3",
      "display_name": "Python 3"
    },
    "language_info": {
      "name": "python"
    }
  },
  "cells": [
    {
      "cell_type": "markdown",
      "metadata": {
        "id": "view-in-github",
        "colab_type": "text"
      },
      "source": [
        "<a href=\"https://colab.research.google.com/github/tapijelly/CST182-1033505/blob/main/Lab_03_Looping_%7C_1033505.ipynb\" target=\"_parent\"><img src=\"https://colab.research.google.com/assets/colab-badge.svg\" alt=\"Open In Colab\"/></a>"
      ]
    },
    {
      "cell_type": "markdown",
      "source": [
        "# **LAB #03** - Looping\n",
        "<br/>\n"
      ],
      "metadata": {
        "id": "qdM8hjkwAnQ5"
      }
    },
    {
      "cell_type": "markdown",
      "source": [
        "><table>\n",
        "##**Lab Overview**\n",
        "\n",
        "These lab questions will help develop your understanding of how loops work and some of the applications where loops are used.  \n",
        "></table>\n",
        "\n",
        "<br/><br/>\n",
        "\n"
      ],
      "metadata": {
        "id": "ax351qT1A2wO"
      }
    },
    {
      "cell_type": "markdown",
      "source": [
        "# **Question #1** - Aggregates on User Input\n",
        "---\n",
        "<br/>\n",
        "\n",
        "Write a program that takes in from the user a list of marks until the user enters a negative number. Once this is done, the program should calculate and display\n",
        "\n",
        "\n",
        "\n",
        "1.   The number of marks\n",
        "2.   The highest mark\n",
        "3.   The lowest mark\n",
        "4.   The average of the marks\n",
        "\n",
        "(note: You cannot use the `max()` or `min()` functions)\n",
        "\n",
        "<br/>\n",
        "\n",
        "\n",
        "**<u>Example Run:</u>**<br/>\n",
        "Mark #1? **50**<br/>\n",
        "Mark #2? **60**<br/>\n",
        "Mark #3? **-1**<br/>\n",
        "Number of marks = 2<br/>\n",
        "Highest Mark = 60<br/>\n",
        "Lowest Mark = 50<br/>\n",
        "Average Mark = 55<br/>\n",
        "<br/>\n",
        "\n",
        "<Br/>\n",
        "\n",
        "><table>\n",
        "### BONUS\n",
        "---\n",
        "Try and add some validation into the program where if the user enters a mark over 100, a message is sent to the user that lets them know that the mark is invalid (and it doesn't add the mark to the statistics - the program just loops again to get another mark).\n",
        "</table>"
      ],
      "metadata": {
        "id": "f1kwJQuoLhE4"
      }
    },
    {
      "cell_type": "markdown",
      "source": [
        "### Your Answer:"
      ],
      "metadata": {
        "id": "jxaY-33JMb77"
      }
    },
    {
      "cell_type": "code",
      "source": [
        "# Student Name: LEELA ALOYSIUS\n",
        "# Student Number: 1033505\n",
        "\n",
        "# Add answer below this line\n",
        "nums = []\n",
        "count = 1\n",
        "marks = 0\n",
        "\n",
        "while True:\n",
        "    mark = int(input(f\"Mark #{count}? \"))\n",
        "    if mark > 100:\n",
        "      print(\"Mark is invalid\")\n",
        "      continue\n",
        "    if mark < 0:\n",
        "        break\n",
        "    nums.append(mark)\n",
        "    count += 1\n",
        "    marks += 1\n",
        "\n",
        "if marks == 0:\n",
        "    print(\"No marks entered.\")\n",
        "\n",
        "else:\n",
        "    highest = nums[0]\n",
        "    lowest = nums[0]\n",
        "    total = 0\n",
        "\n",
        "    for mark in nums:\n",
        "        if mark > highest:\n",
        "            highest = mark\n",
        "        if mark < lowest:\n",
        "            lowest = mark\n",
        "        total += mark\n",
        "\n",
        "    average = total / marks\n",
        "\n",
        "    print(\"Number of marks =\", marks)\n",
        "    print(\"Highest Mark =\", highest)\n",
        "    print(\"Lowest Mark =\", lowest)\n",
        "    print(\"Average Mark =\", round(average, 1))"
      ],
      "metadata": {
        "id": "Wc7e2wC5McY0",
        "colab": {
          "base_uri": "https://localhost:8080/"
        },
        "outputId": "8c8f4909-b7d4-4062-c9fd-33e1dc9bec22"
      },
      "execution_count": 7,
      "outputs": [
        {
          "output_type": "stream",
          "name": "stdout",
          "text": [
            "Mark #1? 101\n",
            "Mark is invalid\n",
            "Mark #1? 2\n",
            "Mark #2? 9\n",
            "Mark #3? 40\n",
            "Mark #4? -1\n",
            "Number of marks = 3\n",
            "Highest Mark = 40\n",
            "Lowest Mark = 2\n",
            "Average Mark = 17.0\n"
          ]
        }
      ]
    },
    {
      "cell_type": "markdown",
      "source": [
        "<Br/><br/>\n"
      ],
      "metadata": {
        "id": "McmLtW4vMjKn"
      }
    },
    {
      "cell_type": "markdown",
      "source": [
        "# **Question #2** - Interest Earning Calculator\n",
        "---\n",
        "\n",
        "<br/>\n",
        "\n",
        "Create a program that takes in details of a fixed-term interest saving account (initial balance, number of years, interest rate percentage) and creates a nicely formatted table that shows the details for each year. <br/><br/>\n",
        "\n",
        "\n",
        "**<u>Example Run:</u>**<br/>\n",
        "Balance? **100000**<br/>\n",
        "Years? **10**<br/>\n",
        "Interest Rate(%)? **5**<br/>\n",
        "```\n",
        "Year      Balance     Interest   Total Int.\n",
        "-------------------------------------------\n",
        "   1   105,000.00     5,000.00     5,000.00\n",
        "   2   110,250.00     5,250.00    10,250.00\n",
        "   3   115,762.50     5,512.50    15,762.50\n",
        "   4   121,550.62     5,788.12    21,550.62\n",
        "   5   127,628.16     6,077.53    27,628.16\n",
        "   6   134,009.56     6,381.41    34,009.56\n",
        "   7   140,710.04     6,700.48    40,710.04\n",
        "   8   147,745.54     7,035.50    47,745.54\n",
        "   9   155,132.82     7,387.28    55,132.82\n",
        "  10   162,889.46     7,756.64    62,889.46\n",
        "```\n",
        "\n",
        "<br/><br/>\n"
      ],
      "metadata": {
        "id": "9ML3CMJVBxuF"
      }
    },
    {
      "cell_type": "markdown",
      "source": [
        "### Your Answer:"
      ],
      "metadata": {
        "id": "gPCRbhBxGMN0"
      }
    },
    {
      "cell_type": "code",
      "execution_count": 9,
      "metadata": {
        "id": "LuZZ6MqZAkbS",
        "colab": {
          "base_uri": "https://localhost:8080/"
        },
        "outputId": "cb73a311-0490-40e1-d36e-8c04a4862415"
      },
      "outputs": [
        {
          "output_type": "stream",
          "name": "stdout",
          "text": [
            "Balance? 100000\n",
            "Years? 10\n",
            "Interest Rate(%)? 5\n",
            " Year         Balance        Interest      Total Int.\n",
            "--------------------------------------------------\n",
            "    1      105,000.00        5,000.00        5,000.00\n",
            "    2      110,250.00        5,250.00       10,250.00\n",
            "    3      115,762.50        5,512.50       15,762.50\n",
            "    4      121,550.62        5,788.12       21,550.62\n",
            "    5      127,628.16        6,077.53       27,628.16\n",
            "    6      134,009.56        6,381.41       34,009.56\n",
            "    7      140,710.04        6,700.48       40,710.04\n",
            "    8      147,745.54        7,035.50       47,745.54\n",
            "    9      155,132.82        7,387.28       55,132.82\n",
            "   10      162,889.46        7,756.64       62,889.46\n"
          ]
        }
      ],
      "source": [
        "# Student Name: LEELA ALOYSIUS\n",
        "# Student Number: 1033505\n",
        "\n",
        "# Add answer below this line\n",
        "\n",
        "bal = float(input('Balance? '))\n",
        "year = int(input('Years? '))\n",
        "interest_rate = float(input('Interest Rate(%)? '))\n",
        "\n",
        "print(f\"{'Year':>5} {'Balance':>15} {'Interest':>15} {'Total Int.':>15}\")\n",
        "print(\"-\" * 50)\n",
        "\n",
        "total_interest = 0\n",
        "\n",
        "for current_year in range(1, year + 1):\n",
        "    interest = bal * (interest_rate / 100)\n",
        "    bal += interest\n",
        "    total_interest += interest\n",
        "    print(f\"{current_year:>5} {bal:>15,.2f} {interest:>15,.2f} {total_interest:>15,.2f}\")\n",
        "\n",
        "\n"
      ]
    },
    {
      "cell_type": "markdown",
      "source": [
        "<br/><br/>\n"
      ],
      "metadata": {
        "id": "gPpEwbJeD_qb"
      }
    },
    {
      "cell_type": "markdown",
      "source": [
        "# **Submission**\n",
        "---\n",
        "\n",
        "When you believe you have the program correctly working, please run the program and enter valid details for each program so that the output is apparent.\n",
        "<br/><br/>\n",
        "When you are ready to submit please\n",
        "\n",
        "*   go to `File` -> `Print` -> `Print PDF` and then upload and submit in the LMS.\n",
        "*   save your file to GitHub via: `File` -> `Save a copy in GitHub`\n"
      ],
      "metadata": {
        "id": "CxZ8SilaD9Gq"
      }
    }
  ]
}