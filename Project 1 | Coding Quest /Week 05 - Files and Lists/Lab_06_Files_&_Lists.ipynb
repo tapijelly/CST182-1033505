{
  "cells": [
    {
      "cell_type": "markdown",
      "metadata": {
        "colab_type": "text",
        "id": "view-in-github"
      },
      "source": [
        "<a href=\"https://colab.research.google.com/github/tapijelly/CST182-1033505/blob/main/Lab_06_Files_%26_Lists.ipynb\" target=\"_parent\"><img src=\"https://colab.research.google.com/assets/colab-badge.svg\" alt=\"Open In Colab\"/></a>"
      ]
    },
    {
      "cell_type": "markdown",
      "metadata": {
        "id": "qdM8hjkwAnQ5"
      },
      "source": [
        "# **LAB #06** - Files & Lists\n",
        "<br/>\n"
      ]
    },
    {
      "cell_type": "markdown",
      "metadata": {
        "id": "ax351qT1A2wO"
      },
      "source": [
        "><table>\n",
        "## **Lab Overview**\n",
        "\n",
        "These lab questions will help develop your understanding of how to open and work with files (reading, writing, and appending) and will also test your understanding of lists - what they are, how they are structured, and how to use them.<br/>\n",
        "\n",
        "The tasks presented will cover some of the different use cases for these concepts - but are not exhaustive - and you're recommended to further your understanding via the content on the LMS, research (e.g., Searching *how can I use files to ...*), and on-going development of personal projects.\n",
        "></table>\n",
        "\n",
        "<br/><br/>\n",
        "\n"
      ]
    },
    {
      "cell_type": "markdown",
      "metadata": {
        "id": "Ul0eUARrsGff"
      },
      "source": [
        "\n",
        "\n",
        "# **Question #1** - A Highscores Table\n",
        "---\n",
        "<br/>\n",
        "\n",
        "This question will be split across a few different parts to get you to concentrate on different areas of working with files and lists.<br/><br/>\n",
        "\n",
        "\n",
        "If you get stuck on a Part it is advised to seek help before continuing to the next Part as later tasks may be dependent on earlier ones.<br/><br/>\n",
        "\n",
        "Please don't hesitate to contact your facilitator for advice - we are here to help. With that said - it's always best if you have started to attempt the program (even a paper-based flowchart) so we can see where you're getting stuck and can provide help accordingly.\n"
      ]
    },
    {
      "cell_type": "markdown",
      "metadata": {
        "id": "BLTrkBgqEoQR"
      },
      "source": [
        "## **Part A** - Creating a file\n",
        "---\n",
        "\n",
        "Here we will be retrieving data from the user input, adding it to a list, and then publishing it to a file so that it can persist after the program has been exited.<br/><br/>\n",
        "\n",
        "### Your Task\n",
        "\n",
        "Create a basic loop that reads in scores from the user until the user enters the sentinel value of -1. Each score should be added to a list. <br/><br/>\n",
        "\n",
        "After the loop has been exited, the program should take the top 10 scores and print them in order (highest to lowest) to the screen, and also to a file called `highscores.txt` and then the program should exit.\n",
        "\n",
        "<br/>\n"
      ]
    },
    {
      "cell_type": "markdown",
      "metadata": {
        "id": "sedot7JUuhD2"
      },
      "source": [
        "### Your Answer"
      ]
    },
    {
      "cell_type": "code",
      "execution_count": 7,
      "metadata": {
        "id": "9PP7YGX7odq2"
      },
      "outputs": [
        {
          "name": "stdout",
          "output_type": "stream",
          "text": [
            "Highscores: [9, 6, 3]\n"
          ]
        }
      ],
      "source": [
        "# PART A - Creating a file \n",
        "\n",
        "# Student Name: Leela Aloysius \n",
        "# Student Number: 1033505\n",
        "# Last Modified: 2025-03-14\n",
        "\n",
        "f = open(\"highscores.txt\", \"w\") # Creates a new file if the specified file doesnt already exist\n",
        "\n",
        "nums = []\n",
        "count = 1\n",
        "marks = 0   \n",
        "\n",
        "while True: # For loop that reads score from user until the user enters the sentinel value of -1\n",
        "    score = int(input(f\"Score #{count}? \"))\n",
        "    if score < 0:\n",
        "        break\n",
        "    nums.append(score) # adds scores to list\n",
        "    count += 1\n",
        "    marks += 1  \n",
        "\n",
        "nums.sort(reverse=True) # Reverses the list to be descending\n",
        "\n",
        "print(f\"Highscores: {nums[:10]}\") # Displaying the highscores \n",
        "\n",
        "for number in nums[:10]:\n",
        "    f.write(str(number) + \"\\n\") # Writing the highscores to the file\n",
        "\n",
        "f.close() # Closes the file"
      ]
    },
    {
      "cell_type": "markdown",
      "metadata": {
        "id": "QFxRj-X-yFdh"
      },
      "source": [
        "<Br/><br/>"
      ]
    },
    {
      "cell_type": "markdown",
      "metadata": {
        "id": "DLlsIPyy7PBr"
      },
      "source": [
        "## **Part B** - Data Permanence  \n",
        "---\n",
        "\n",
        "Here we will add the second part of retaining a highscores list - being able to read them back into the program.<br/><br/>\n",
        "\n",
        "### Your Task\n",
        "\n",
        "Copy your code from Part A and paste it into the code block below.<br/><br/>\n",
        "Next, you need to extend the program to:\n",
        "* open the `highscores.txt` file\n",
        "* read and print the current highscores list to the screen\n",
        "* populate the highscores list<br/><br/>\n",
        "\n",
        "Once this is done, you need to ensure that the functionality in Part A still works - that is, that you can take in scores via the loop and add them to the list, and then re-save them to the file.\n",
        "\n",
        "\n",
        "\n",
        "\n",
        "<br/>\n"
      ]
    },
    {
      "cell_type": "markdown",
      "metadata": {
        "id": "FLqsaUEC_g7E"
      },
      "source": [
        "### Your Answer"
      ]
    },
    {
      "cell_type": "code",
      "execution_count": 20,
      "metadata": {
        "id": "3DESmazg7u-M"
      },
      "outputs": [
        {
          "name": "stdout",
          "output_type": "stream",
          "text": [
            "Previous Scores: [76, 69, 65, 26, 23, 10, 9, 8, 7]\n",
            "Highscores: [76, 69, 65, 26, 23, 10, 10, 9, 9, 8]\n"
          ]
        }
      ],
      "source": [
        "# PART B - Data Performance\n",
        "\n",
        "# Student Name: Leela Aloysius \n",
        "# Student Number: 1033505\n",
        "# Last Modified: 2025-03-14\n",
        "\n",
        "f = open(\"highscores.txt\") # opens the text file\n",
        "\n",
        "nums = []\n",
        "count = 1\n",
        "marks = 0   \n",
        "pre_score = f.readlines()\n",
        "\n",
        "\n",
        "\n",
        "for score in pre_score:\n",
        "    nums.append(int(score)) # adds previous scores to number list\n",
        "    \n",
        "print(f\"Previous Scores: {nums}\") # Displays the previous scores in \"highscores.txt\"\n",
        "\n",
        "\n",
        "f.close() #closes the file\n",
        "\n",
        "\n",
        "while True: # for loop that reads score from user until the user enters the sentinel value of -1\n",
        "    score = int(input(f\"Score #{count}? \"))\n",
        "    if score < 0:\n",
        "        break\n",
        "    nums.append(score) # adds scores to list\n",
        "    count += 1\n",
        "    marks += 1  \n",
        "\n",
        "nums.sort(reverse=True) # reverses the list to be descending\n",
        "\n",
        "print(f\"Highscores: {nums[:10]}\") # displaying the highscores \n",
        "\n",
        "f = open(\"highscores.txt\", \"w\") #opens the text file again\n",
        "\n",
        "for number in nums[:10]:\n",
        "    f.write(str(number) + \"\\n\") # writing the highscores to the file\n",
        "\n",
        "f.close() # closes the file"
      ]
    },
    {
      "cell_type": "markdown",
      "metadata": {
        "id": "smBNf2JC7yzD"
      },
      "source": [
        "<br/><br/>"
      ]
    },
    {
      "cell_type": "markdown",
      "metadata": {
        "id": "3IHb76Mr-Hdj"
      },
      "source": [
        "## **Part C** - Further Functionalities **[ OPTIONAL! ]**\n",
        "---\n",
        "\n",
        "<br/>\n",
        "\n",
        "***Note: This part is optional and is not required to be completed***\n",
        "\n",
        "<br/>\n",
        "\n",
        "To make the highscores list closer to the real world, here are some additional tasks that you can implement if adventurous<br/><br/>\n",
        "\n",
        "### Your Task\n",
        "\n",
        "Copy your code from Part B and paste it into the code block below.<br/><br/>\n",
        "\n",
        "Try to add as many of the following as you can:\n",
        "* Add the ability to save & display a players name against their score\n",
        "* Add functionality to automatically save & display the date/time of the highscore (note: check `datetime` module)\n",
        "* Update the program to be menu-based rather than counting on loops and exiting/opening the program\n",
        "  * Have a menu that contains items for:<br/>\n",
        "    <input type=\"checkbox\"> Add new score<br/>\n",
        "    <input type=\"checkbox\"> View scores<br/>\n",
        "    <input type=\"checkbox\"> Delete score<br/>\n",
        "    <input type=\"checkbox\"> Modify score<br/>\n",
        "    <input type=\"checkbox\"> Clear highscore list<br/>\n",
        "    <input type=\"checkbox\"> Exit & Save<br/>\n",
        ">*Please tick off functionalities that you have completed*.\n",
        "\n",
        "And any further ideas you have to improve this program (if you do add extra functionalities, list them as comments at the top of the file underneath your name and student ID)\n",
        "<br/><br/>\n",
        "\n"
      ]
    },
    {
      "cell_type": "markdown",
      "metadata": {
        "id": "SCY_xtUk_h-e"
      },
      "source": [
        "### Your Answer"
      ]
    },
    {
      "cell_type": "code",
      "execution_count": null,
      "metadata": {
        "id": "9_OmC1dG_KV3"
      },
      "outputs": [],
      "source": [
        "# COPY CODE FROM PART B HERE"
      ]
    },
    {
      "cell_type": "markdown",
      "metadata": {
        "id": "Bc2gMp6g_MoO"
      },
      "source": [
        "<br/><br/>"
      ]
    },
    {
      "cell_type": "markdown",
      "metadata": {
        "id": "CxZ8SilaD9Gq"
      },
      "source": [
        "# **Submission**\n",
        "---\n",
        "\n",
        "When you believe you have the program correctly working, please run the program and enter valid details for each program so that the output is apparent.\n",
        "<br/><br/>\n",
        "When you are ready to submit please\n",
        "\n",
        "*   go to `File` -> `Print` -> `Print PDF` and then upload and submit in the LMS.\n",
        "  *   feel free to also submit your artwork from question 1 to the LMS if you'd like to\n",
        "\n",
        "*   save your file to GitHub via: `File` -> `Save a copy in GitHub`\n"
      ]
    }
  ],
  "metadata": {
    "colab": {
      "include_colab_link": true,
      "provenance": [],
      "toc_visible": true
    },
    "kernelspec": {
      "display_name": "Python 3",
      "name": "python3"
    },
    "language_info": {
      "codemirror_mode": {
        "name": "ipython",
        "version": 3
      },
      "file_extension": ".py",
      "mimetype": "text/x-python",
      "name": "python",
      "nbconvert_exporter": "python",
      "pygments_lexer": "ipython3",
      "version": "3.9.6"
    }
  },
  "nbformat": 4,
  "nbformat_minor": 0
}
