{
  "cells": [
    {
      "cell_type": "markdown",
      "metadata": {
        "colab_type": "text",
        "id": "view-in-github"
      },
      "source": [
        "<a href=\"https://colab.research.google.com/github/tapijelly/CST182-1033505/blob/main/Tutorial_6_Files_%26_Lists.ipynb\" target=\"_parent\"><img src=\"https://colab.research.google.com/assets/colab-badge.svg\" alt=\"Open In Colab\"/></a>"
      ]
    },
    {
      "cell_type": "markdown",
      "metadata": {
        "id": "h7roITOPgVZ6"
      },
      "source": [
        "\n",
        "\n",
        "\n",
        "# **TUTORIAL #6 - FILES & LIST**\n",
        "<br/>\n",
        "\n",
        "\n",
        "\n",
        "\n",
        "\n"
      ]
    },
    {
      "cell_type": "markdown",
      "metadata": {
        "id": "j39qU2KEJ8Uu"
      },
      "source": [
        "In this tutorial, we will be revise the main topics covered in files & lists.\n",
        "\n",
        "> **Note:** *For a comprehensive understanding please refer to the materials on the LMS*\n",
        "\n",
        "\n",
        "<br/>\n",
        "\n",
        "\n",
        "### **Important** | Setup for the tutorial\n",
        "---\n",
        "Please run the code below to set up the files required for this lab"
      ]
    },
    {
      "cell_type": "code",
      "execution_count": 1,
      "metadata": {
        "id": "oh-kl2BVrzrr"
      },
      "outputs": [],
      "source": [
        "def makeAstroFile():\n",
        "  f = open(\"astro.txt\", \"w\")\n",
        "  f.write(\"Star\\nPlanet\\nMoon\\nSupernova\\nPlanetary Nebulae\\nBlack Hole\")\n",
        "  f.close()\n",
        "\n",
        "makeAstroFile()"
      ]
    },
    {
      "cell_type": "markdown",
      "metadata": {
        "id": "HAhssq8Hr0Jn"
      },
      "source": [
        "<br/>"
      ]
    },
    {
      "cell_type": "markdown",
      "metadata": {
        "id": "-GAXHau1oAMK"
      },
      "source": [
        "## **#1. Files I/O in Python**\n",
        "---\n",
        "\n",
        "Reading from, and writing to file enhances the functionality of our programs as we are now able to have permanent storage as a feature."
      ]
    },
    {
      "cell_type": "markdown",
      "metadata": {
        "id": "rO8JUFDuv7Rz"
      },
      "source": [
        "### **1.1 Opening Files**\n",
        "\n"
      ]
    },
    {
      "cell_type": "markdown",
      "metadata": {
        "id": "qSCvRsOrqpIy"
      },
      "source": [
        "\n",
        "\n",
        "#### **Reading**\n",
        "We can open a file for reading via the `open()` method, and then test if the file was properly loaded via the `read()` method."
      ]
    },
    {
      "cell_type": "code",
      "execution_count": 2,
      "metadata": {
        "colab": {
          "base_uri": "https://localhost:8080/"
        },
        "id": "DgwXIM5EplUY",
        "outputId": "1052071d-5423-412a-f78d-5dfaa9a6f0a9"
      },
      "outputs": [
        {
          "name": "stdout",
          "output_type": "stream",
          "text": [
            "Star\n",
            "Planet\n",
            "Moon\n",
            "Supernova\n",
            "Planetary Nebulae\n",
            "Black Hole\n"
          ]
        }
      ],
      "source": [
        "f = open(\"astro.txt\")\n",
        "print(f.read())\n",
        "f.close()"
      ]
    },
    {
      "cell_type": "markdown",
      "metadata": {
        "id": "gz7QKLtnW33P"
      },
      "source": [
        ">**Note:** *test.txt is the name and extension of the file - and will work if the file is in the same directory as our code. If it is not, then we need to provide the pathname to the directory hosting the file we are trying to open.*\n",
        "\n",
        "<br/>\n",
        "\n"
      ]
    },
    {
      "cell_type": "markdown",
      "metadata": {
        "id": "pZ_AJjCLtXAX"
      },
      "source": [
        "#### **Writing** | Overwriting\n",
        "\n",
        "\n",
        "We can open up the file for writing in a similar way - via the `open()` function - but then provide an extra parameter `\"w\"` - which will set the mode to write."
      ]
    },
    {
      "cell_type": "code",
      "execution_count": 3,
      "metadata": {
        "colab": {
          "base_uri": "https://localhost:8080/"
        },
        "id": "bzfPm2FmW3Tq",
        "outputId": "34a2e94e-408f-436e-fdaf-14894d7e0fdb"
      },
      "outputs": [
        {
          "name": "stdout",
          "output_type": "stream",
          "text": [
            "Hello at line 1\n",
            "Goodbye at line 2\n"
          ]
        }
      ],
      "source": [
        "f2 = open(\"test2.txt\",\"w\")\n",
        "f2.write(\"Hello at line 1\\n\")\n",
        "f2.write(\"Goodbye at line 2\")\n",
        "f2.close()\n",
        "\n",
        "# simple reading to double check\n",
        "f2 = open(\"test2.txt\")\n",
        "print(f2.read())\n",
        "f2.close()"
      ]
    },
    {
      "cell_type": "markdown",
      "metadata": {
        "id": "1aQLJnOdu9XP"
      },
      "source": [
        "We can see the effect of this by modifying the contents we write to the file (lines 2 & 3), and re-running the code to see the output in the file."
      ]
    },
    {
      "cell_type": "markdown",
      "metadata": {
        "id": "HI4NHNPZtgNX"
      },
      "source": [
        "#### **Writing** | Appending\n",
        "\n",
        "Opening a file for appending (mode parameter = `\"a\"`) will also open the file for reading, however, instead of overwriting the previous contents of the file (if it exists), it will simply add to (append) the end."
      ]
    },
    {
      "cell_type": "code",
      "execution_count": 4,
      "metadata": {
        "colab": {
          "base_uri": "https://localhost:8080/"
        },
        "id": "go-Oi7FGumce",
        "outputId": "640c97e2-01c0-4a83-ca6d-d9759031b9fc"
      },
      "outputs": [
        {
          "name": "stdout",
          "output_type": "stream",
          "text": [
            "Hello at line 1\n",
            "Goodbye at line 2\n",
            "\n"
          ]
        }
      ],
      "source": [
        "f2 = open(\"test3.txt\",\"a\")\n",
        "f2.write(\"Hello at line 1\\n\")\n",
        "f2.write(\"Goodbye at line 2\\n\")\n",
        "f2.close()\n",
        "\n",
        "# simple reading to double check\n",
        "f2 = open(\"test3.txt\")\n",
        "print(f2.read())\n",
        "f2.close()"
      ]
    },
    {
      "cell_type": "markdown",
      "metadata": {
        "id": "NeSVvKOzvNEW"
      },
      "source": [
        "At first glance this appears to do the same thing as writing, however, if you run the program a couple of times you'll notice that the file gets larger and larger - as more text is appended to the end of the file."
      ]
    },
    {
      "cell_type": "markdown",
      "metadata": {
        "id": "gMXCcvYjLxMI"
      },
      "source": [
        "### **1.2 Reading Modes**\n",
        "<br/>\n",
        "\n",
        "There are three different reading modes to choose from when taking in data from a file - mostly due to the way we try to read the contents (e.g., all at once into a single string, all at once with each line as a list entry, a line at a time)"
      ]
    },
    {
      "cell_type": "markdown",
      "metadata": {
        "id": "AYti6_kSwF1g"
      },
      "source": [
        "#### **`read()`**\n",
        "\n",
        "We can use the `read()` method (as previously shown) to read all the contents of a file at once - into a String"
      ]
    },
    {
      "cell_type": "code",
      "execution_count": 5,
      "metadata": {
        "colab": {
          "base_uri": "https://localhost:8080/"
        },
        "id": "Pd9gU58MwPW8",
        "outputId": "06fbb95c-ef42-4845-e5e3-8fff2da669d3"
      },
      "outputs": [
        {
          "name": "stdout",
          "output_type": "stream",
          "text": [
            "<class 'str'> \n",
            "------\n",
            "Star\n",
            "Planet\n",
            "Moon\n",
            "Supernova\n",
            "Planetary Nebulae\n",
            "Black Hole\n"
          ]
        }
      ],
      "source": [
        "makeAstroFile()\n",
        "\n",
        "f = open(\"astro.txt\")\n",
        "s = f.read()\n",
        "f.close()\n",
        "\n",
        "print(type(s), \"\\n------\") # print data type of read() return\n",
        "\n",
        "print(s)  # print contents returned from read()"
      ]
    },
    {
      "cell_type": "markdown",
      "metadata": {
        "id": "as1P-68KL-G8"
      },
      "source": [
        "#### **`readlines()`**\n",
        "\n",
        "We can use the `readlines()` method to read all the contents of a file at once - into a String"
      ]
    },
    {
      "cell_type": "code",
      "execution_count": 6,
      "metadata": {
        "colab": {
          "base_uri": "https://localhost:8080/"
        },
        "id": "KyWvxXFvxjoc",
        "outputId": "6692cabf-c1d4-4899-8342-e5d910f3a967"
      },
      "outputs": [
        {
          "name": "stdout",
          "output_type": "stream",
          "text": [
            "<class 'list'> \n",
            "------\n",
            "['Star\\n', 'Planet\\n', 'Moon\\n', 'Supernova\\n', 'Planetary Nebulae\\n', 'Black Hole']\n"
          ]
        }
      ],
      "source": [
        "makeAstroFile()\n",
        "\n",
        "f = open(\"astro.txt\")\n",
        "s = f.readlines()\n",
        "\n",
        "print(type(s), \"\\n------\") # print data type of read() return\n",
        "\n",
        "print(s)  # print contents returned from read()"
      ]
    },
    {
      "cell_type": "markdown",
      "metadata": {
        "id": "Za0L4Lxfxt1k"
      },
      "source": [
        "#### **`readline()`**\n",
        "\n",
        "We can use the `readline()` method to read a single line in from the file."
      ]
    },
    {
      "cell_type": "code",
      "execution_count": null,
      "metadata": {
        "colab": {
          "base_uri": "https://localhost:8080/"
        },
        "id": "xrrjhfqQx3wI",
        "outputId": "e1e196ce-7d47-4f21-93f4-271f215f628e"
      },
      "outputs": [
        {
          "name": "stdout",
          "output_type": "stream",
          "text": [
            "<class 'str'> \n",
            "------\n",
            "Star\n",
            "\n"
          ]
        }
      ],
      "source": [
        "makeAstroFile()\n",
        "\n",
        "f = open(\"astro.txt\")\n",
        "s = f.readline()\n",
        "f.close()\n",
        "\n",
        "print(type(s), \"\\n------\") # print data type of read() return\n",
        "\n",
        "print(s)  # print contents returned from read()"
      ]
    },
    {
      "cell_type": "markdown",
      "metadata": {
        "id": "UQ41ClaCx6w0"
      },
      "source": [
        "As we can see, it only reads one line in - so if we want to continue reading lines in we can do so but adding `readline()` into a loop"
      ]
    },
    {
      "cell_type": "code",
      "execution_count": null,
      "metadata": {
        "colab": {
          "base_uri": "https://localhost:8080/"
        },
        "id": "WExzJhGjyDTH",
        "outputId": "78ca9d17-9de7-4db0-fec9-df452d1af3bb"
      },
      "outputs": [
        {
          "name": "stdout",
          "output_type": "stream",
          "text": [
            "Star\n",
            "\n",
            "Planet\n",
            "\n",
            "Moon\n",
            "\n",
            "Supernova\n",
            "\n",
            "Planetary Nebulae\n",
            "\n",
            "Black Hole\n"
          ]
        }
      ],
      "source": [
        "makeAstroFile()\n",
        "\n",
        "f = open(\"astro.txt\")\n",
        "\n",
        "while True:\n",
        "  s = f.readline()\n",
        "  if s == \"\":\n",
        "    break\n",
        "  print(s)\n",
        "\n",
        "f.close()"
      ]
    },
    {
      "cell_type": "markdown",
      "metadata": {
        "id": "N4nWAupAzB2x"
      },
      "source": [
        "A much quicker way to accomplish this would be to use a `for` loop:"
      ]
    },
    {
      "cell_type": "code",
      "execution_count": null,
      "metadata": {
        "colab": {
          "base_uri": "https://localhost:8080/"
        },
        "id": "QBoM8DZ-y9EI",
        "outputId": "e1934535-ba12-4c32-fe3a-fd29b2805469"
      },
      "outputs": [
        {
          "name": "stdout",
          "output_type": "stream",
          "text": [
            "Star\n",
            "\n",
            "Planet\n",
            "\n",
            "Moon\n",
            "\n",
            "Supernova\n",
            "\n",
            "Planetary Nebulae\n",
            "\n",
            "Black Hole\n"
          ]
        }
      ],
      "source": [
        "makeAstroFile()\n",
        "\n",
        "f = open(\"astro.txt\")\n",
        "\n",
        "for s in f:\n",
        "  print(s)\n",
        "\n",
        "f.close()"
      ]
    },
    {
      "cell_type": "markdown",
      "metadata": {
        "id": "sOqHTsmVzKhQ"
      },
      "source": [
        "#### **Stripping Whitespace**\n",
        "\n",
        "As we can see, we get two new lines each time we try to print - as one comes from the file itself (the new line at the end of the line - as seen in the setup function at the top of the page, `makeAstroFile()`, where `\\n` is used to insert this new line). The second newline comes from the `print()` function itself.\n",
        "\n",
        "We can remove the newline character (as well as any other leading or trailing spaces) by using the `strip()` function on a string"
      ]
    },
    {
      "cell_type": "code",
      "execution_count": null,
      "metadata": {
        "colab": {
          "base_uri": "https://localhost:8080/"
        },
        "id": "uRO8WMKOzPHe",
        "outputId": "ed5f5df6-3df9-41b7-c472-fc7d736606cd"
      },
      "outputs": [
        {
          "name": "stdout",
          "output_type": "stream",
          "text": [
            "Star\n",
            "Planet\n",
            "Moon\n",
            "Supernova\n",
            "Planetary Nebulae\n",
            "Black Hole\n"
          ]
        }
      ],
      "source": [
        "makeAstroFile()\n",
        "\n",
        "f = open(\"astro.txt\")\n",
        "\n",
        "for s in f:\n",
        "  print(s.strip())\n",
        "\n",
        "f.close()"
      ]
    },
    {
      "cell_type": "markdown",
      "metadata": {
        "id": "McsWxdI9AXKS"
      },
      "source": [
        "## **#2. Lists**\n",
        "\n",
        "\n",
        "Lists are a data structure that allow us to store multiple records in one variable, and access the contents via the index - i.e., the position in the list that the value occurs (starting from 0).\n",
        "\n",
        "We have used lists a few times already in this course - including in the previous chapter where we opened a file using `readlines()`."
      ]
    },
    {
      "cell_type": "markdown",
      "metadata": {
        "id": "Gv_oPq7ExgjK"
      },
      "source": [
        "### **Basics**\n",
        "\n",
        "\n",
        "We can set up a list by simply assigning a variable to a range of values:"
      ]
    },
    {
      "cell_type": "code",
      "execution_count": null,
      "metadata": {
        "id": "v9xYp4ySBHks"
      },
      "outputs": [],
      "source": [
        "my_list = [1, 4, 7, 3, 9, 27]"
      ]
    },
    {
      "cell_type": "markdown",
      "metadata": {
        "id": "lQS8F7I3BMYg"
      },
      "source": [
        "and print the list via"
      ]
    },
    {
      "cell_type": "code",
      "execution_count": null,
      "metadata": {
        "colab": {
          "base_uri": "https://localhost:8080/"
        },
        "id": "YVOtdwycBN8_",
        "outputId": "6c8b02e9-e1e8-4b09-e8fc-6472130bf736"
      },
      "outputs": [
        {
          "name": "stdout",
          "output_type": "stream",
          "text": [
            "[1, 4, 7, 3, 9, 27]\n"
          ]
        }
      ],
      "source": [
        "print(my_list)"
      ]
    },
    {
      "cell_type": "markdown",
      "metadata": {
        "id": "Z67tf9npBQPV"
      },
      "source": [
        "or print a specific value in the list via index"
      ]
    },
    {
      "cell_type": "code",
      "execution_count": null,
      "metadata": {
        "colab": {
          "base_uri": "https://localhost:8080/"
        },
        "id": "UDekIoc5BPXn",
        "outputId": "a7d0f44a-2b08-47bf-9f6f-acbb10250322"
      },
      "outputs": [
        {
          "name": "stdout",
          "output_type": "stream",
          "text": [
            "4\n"
          ]
        }
      ],
      "source": [
        "print(my_list[1])"
      ]
    },
    {
      "cell_type": "markdown",
      "metadata": {
        "id": "DOhmTx28Bb90"
      },
      "source": [
        ">**Reminder:** *A list index starts at 0, so the index of 1 is actually the second element in the list*"
      ]
    },
    {
      "cell_type": "markdown",
      "metadata": {
        "id": "nRQI6zM2Bx3g"
      },
      "source": [
        "### **Slicing**"
      ]
    },
    {
      "cell_type": "markdown",
      "metadata": {
        "id": "LrIZljpLB0gx"
      },
      "source": [
        "##### **Between two values**\n",
        "\n",
        "We can provide the lower and upper index that we wish to use data"
      ]
    },
    {
      "cell_type": "markdown",
      "metadata": {
        "id": "qvO_k6bkCcAb"
      },
      "source": []
    },
    {
      "cell_type": "code",
      "execution_count": null,
      "metadata": {
        "colab": {
          "base_uri": "https://localhost:8080/"
        },
        "id": "sUJmQ4iOBjSg",
        "outputId": "c4793385-44f2-424e-a35b-991bac5c243c"
      },
      "outputs": [
        {
          "name": "stdout",
          "output_type": "stream",
          "text": [
            "[7, 3]\n"
          ]
        }
      ],
      "source": [
        "print(my_list[2:4])"
      ]
    },
    {
      "cell_type": "markdown",
      "metadata": {
        "id": "UGKvPcznB52a"
      },
      "source": [
        "##### **From start to X**\n",
        "\n",
        "If we leave the first index number empty, it will begin at the start and count to the second index"
      ]
    },
    {
      "cell_type": "code",
      "execution_count": null,
      "metadata": {
        "colab": {
          "base_uri": "https://localhost:8080/"
        },
        "id": "4f0cI3EeB_Xy",
        "outputId": "f4a38f47-cdcb-461f-b088-97df782c0488"
      },
      "outputs": [
        {
          "name": "stdout",
          "output_type": "stream",
          "text": [
            "[1, 4, 7, 3]\n"
          ]
        }
      ],
      "source": [
        "print(my_list[:4])"
      ]
    },
    {
      "cell_type": "markdown",
      "metadata": {
        "id": "L8NHZPNlB71h"
      },
      "source": [
        "##### **From X to end**\n",
        "\n",
        "\n",
        "\n",
        "If we leave the last number empty, it will start at the first number and go to the end"
      ]
    },
    {
      "cell_type": "code",
      "execution_count": null,
      "metadata": {
        "colab": {
          "base_uri": "https://localhost:8080/"
        },
        "id": "1go4nCnQCA3E",
        "outputId": "dd964f5e-b33d-45d6-f164-d14bd284006b"
      },
      "outputs": [
        {
          "name": "stdout",
          "output_type": "stream",
          "text": [
            "[7, 3, 9, 27]\n"
          ]
        }
      ],
      "source": [
        "print(my_list[2:])"
      ]
    },
    {
      "cell_type": "markdown",
      "metadata": {
        "id": "XASv2WpqChUh"
      },
      "source": [
        "### **List Manipulative Functions**\n",
        "\n",
        "---\n",
        "<br/>\n",
        "\n",
        "We can use a variety of functions to manipulate the data in our list"
      ]
    },
    {
      "cell_type": "markdown",
      "metadata": {
        "id": "igh09XYeCqDk"
      },
      "source": [
        "#### **Add values**\n",
        "\n",
        "We can add values via the `append()` method."
      ]
    },
    {
      "cell_type": "code",
      "execution_count": null,
      "metadata": {
        "colab": {
          "base_uri": "https://localhost:8080/"
        },
        "id": "876pBE3xCoST",
        "outputId": "5d5886f5-512e-413d-aa3b-477e083f1d6d"
      },
      "outputs": [
        {
          "name": "stdout",
          "output_type": "stream",
          "text": [
            "[1, 4, 7, 3, 9, 27]\n",
            "[1, 4, 7, 3, 9, 27, 99]\n"
          ]
        }
      ],
      "source": [
        "print(my_list)\n",
        "\n",
        "my_list.append(99)\n",
        "print(my_list)"
      ]
    },
    {
      "cell_type": "markdown",
      "metadata": {
        "id": "S_6a8MJmC3BY"
      },
      "source": [
        "#### **Update Values**\n",
        "\n",
        "We can update values by simply setting the index of the list to a new value"
      ]
    },
    {
      "cell_type": "code",
      "execution_count": null,
      "metadata": {
        "colab": {
          "base_uri": "https://localhost:8080/"
        },
        "id": "IKaGpsg6C-ws",
        "outputId": "139bba46-0bdb-48f7-f095-1083fbffc6ba"
      },
      "outputs": [
        {
          "name": "stdout",
          "output_type": "stream",
          "text": [
            "[1, 4, 7, 3, 9, 27, 99]\n",
            "[1, 11, 7, 3, 9, 27, 99]\n"
          ]
        }
      ],
      "source": [
        "print(my_list)\n",
        "\n",
        "my_list[1] = 11\n",
        "print(my_list)"
      ]
    },
    {
      "cell_type": "markdown",
      "metadata": {
        "id": "egmJwB2GDLr_"
      },
      "source": [
        "#### **Delete Values** | *via index*\n",
        "\n",
        "We can delete values by their index via the `pop()` method"
      ]
    },
    {
      "cell_type": "code",
      "execution_count": null,
      "metadata": {
        "colab": {
          "base_uri": "https://localhost:8080/"
        },
        "id": "KL5KB35fDcTZ",
        "outputId": "ea1ef051-4048-4253-dbb1-f700e7d00c7d"
      },
      "outputs": [
        {
          "name": "stdout",
          "output_type": "stream",
          "text": [
            "[1, 11, 7, 3, 9, 27, 99]\n",
            "[1, 7, 3, 9, 27, 99]\n"
          ]
        }
      ],
      "source": [
        "print(my_list)\n",
        "\n",
        "my_list.pop(1)\n",
        "print(my_list)"
      ]
    },
    {
      "cell_type": "markdown",
      "metadata": {
        "id": "eX991RlrDcmL"
      },
      "source": [
        "#### **Delete Values** | *via value*\n",
        "\n",
        "We can delete values by their index via the `remove()` method"
      ]
    },
    {
      "cell_type": "code",
      "execution_count": null,
      "metadata": {
        "colab": {
          "base_uri": "https://localhost:8080/"
        },
        "id": "uVXhtXl9DfOX",
        "outputId": "ce638579-3db9-42ac-c446-8e2864092b3f"
      },
      "outputs": [
        {
          "name": "stdout",
          "output_type": "stream",
          "text": [
            "[1, 7, 3, 9, 27, 99]\n",
            "[1, 7, 3, 9, 27]\n"
          ]
        }
      ],
      "source": [
        "print(my_list)\n",
        "\n",
        "my_list.remove(99)\n",
        "print(my_list)"
      ]
    },
    {
      "cell_type": "markdown",
      "metadata": {
        "id": "4yvuBd1LD-w9"
      },
      "source": [
        "#### **Sort**\n",
        "\n",
        "We can sort values in a list via the `sort()` method"
      ]
    },
    {
      "cell_type": "code",
      "execution_count": null,
      "metadata": {
        "colab": {
          "base_uri": "https://localhost:8080/"
        },
        "id": "lTlOlI9WEE8w",
        "outputId": "7e635e9a-032a-413b-c50d-c0689742dd3b"
      },
      "outputs": [
        {
          "name": "stdout",
          "output_type": "stream",
          "text": [
            "[1, 7, 3, 9, 27]\n",
            "[1, 3, 7, 9, 27]\n"
          ]
        }
      ],
      "source": [
        "print(my_list)\n",
        "\n",
        "my_list.sort()\n",
        "print(my_list)"
      ]
    },
    {
      "cell_type": "markdown",
      "metadata": {
        "id": "XqC9dftNEDX-"
      },
      "source": [
        "<br/>"
      ]
    },
    {
      "cell_type": "markdown",
      "metadata": {
        "id": "LTfa8ImBtsha"
      },
      "source": [
        "\n",
        "##  **#3.YOUR TURN**\n",
        "---"
      ]
    },
    {
      "cell_type": "markdown",
      "metadata": {
        "id": "2uifW04Is2EE"
      },
      "source": [
        "### **Program #1 |** A Simple Student Class &nbsp; **<i>[EXTENDED]</i>**\n",
        "---\n",
        "\n",
        "Take the *Simple Student Class* tutorial from last week and paste your code below.\n",
        "\n",
        "><table>\n",
        "In this program we will create a simple student class and a few objects.\n",
        "<br/><br/>\n",
        "\n",
        "The student class should have the following:\n",
        "\n",
        "**Properties**\n",
        "* `name` the name of the student\n",
        "* `marks` a list of final marks the student has been awarded\n",
        "\n",
        "\n",
        "**Methods**\n",
        "* `add_mark()` which takes a single value and adds it to the list of marks\n",
        "* `calculate_GPA()` which gets the average from the list of marks\n",
        "* `print_student()` which nicely prints a transcript for the student (name, marks, GPA)\n",
        "></table>\n",
        "\n",
        "\n",
        "<br/>\n",
        "\n",
        "### **Your Task**\n",
        "\n",
        "\n",
        "1.  Update the program to read in the data from `student_marks.txt` file (rather than the current data hard-coded in the program) into a List\n",
        "\n",
        "2. From there, you need to calculate the GPA for each student, and then print to a new file (`GPA_List.txt`) each student's name alongside their associated GPA in descending order.\n"
      ]
    },
    {
      "cell_type": "code",
      "execution_count": null,
      "metadata": {
        "id": "6_CTo-8Rjbu3"
      },
      "outputs": [],
      "source": [
        "# Student Name:   MYNAME\n",
        "# Student Number: MYSTUDENTNUMBER\n",
        "\n",
        "# TODO: Insert code from simple student class from last week's tutorial here\n",
        "\n",
        "while True:\n",
        "    mark = int(input(f\"Mark #{count}? \"))\n",
        "    if mark < 0:\n",
        "        break\n",
        "    nums.append(mark) \n",
        "    count += 1\n",
        "    marks += 1  "
      ]
    },
    {
      "cell_type": "markdown",
      "metadata": {
        "id": "T1VrXym6tjGs"
      },
      "source": [
        "<br/><BR/>"
      ]
    },
    {
      "cell_type": "markdown",
      "metadata": {
        "id": "N-XTusSvusCo"
      },
      "source": [
        "### **Submission**\n",
        "---\n",
        "\n",
        "When you believe you have the program correctly working, please run the program and enter valid details for height and weight (you don't need to use your own if you do not want to) to get the output of BMI to show.\n",
        "<br/><br/>\n",
        "When you are ready to submit please go to `File` -> `Print` -> `Print PDF` and then upload and submit in the LMS.\n",
        "\n",
        "Please save your file to GitHub via: `File` -> `Save a copy in GitHub`"
      ]
    }
  ],
  "metadata": {
    "colab": {
      "include_colab_link": true,
      "provenance": [],
      "toc_visible": true
    },
    "kernelspec": {
      "display_name": "Python 3",
      "language": "python",
      "name": "python3"
    },
    "language_info": {
      "codemirror_mode": {
        "name": "ipython",
        "version": 3
      },
      "file_extension": ".py",
      "mimetype": "text/x-python",
      "name": "python",
      "nbconvert_exporter": "python",
      "pygments_lexer": "ipython3",
      "version": "3.9.6"
    }
  },
  "nbformat": 4,
  "nbformat_minor": 0
}
