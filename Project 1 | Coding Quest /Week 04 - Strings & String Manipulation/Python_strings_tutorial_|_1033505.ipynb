{
  "cells": [
    {
      "cell_type": "markdown",
      "metadata": {
        "id": "view-in-github",
        "colab_type": "text"
      },
      "source": [
        "<a href=\"https://colab.research.google.com/github/tapijelly/CST182-1033505/blob/main/Python_strings_tutorial_%7C_1033505.ipynb\" target=\"_parent\"><img src=\"https://colab.research.google.com/assets/colab-badge.svg\" alt=\"Open In Colab\"/></a>"
      ]
    },
    {
      "cell_type": "markdown",
      "metadata": {
        "id": "TtDMIiMwLhXf"
      },
      "source": [
        "# **Python Strings:** A Hands-On Tutorial\n",
        "\n",
        "Welcome to this interactive tutorial on **Python Strings**! In this notebook, we'll cover the basics and advanced operations of strings in Python with practical examples and exercises.\n",
        "\n",
        "## 📌 **Learning Objectives**\n",
        "By the end of this tutorial, you will:\n",
        "- Understand how to create and manipulate strings.\n",
        "- Apply string methods for searching, modifying, and formatting text.\n",
        "- Use loops and conditionals to process text.\n",
        "- Work with user input and real-world text processing tasks.\n",
        "\n",
        "---"
      ]
    },
    {
      "cell_type": "markdown",
      "metadata": {
        "id": "jznpcSQHLhXg"
      },
      "source": [
        "## **Creating Strings**\n",
        "Strings in Python are sequences of characters enclosed in **single (`'`)**, **double (`\"`)**, or **triple quotes (`'''` or `\"\"\"`)**."
      ]
    },
    {
      "cell_type": "code",
      "execution_count": null,
      "metadata": {
        "id": "rwsxVPDhLhXh"
      },
      "outputs": [],
      "source": [
        "# Examples of strings\n",
        "string1 = 'Hello, World!'\n",
        "string2 = \"Python is fun!\"\n",
        "string3 = '''This is a multi-line\n",
        "string example!'''\n",
        "\n",
        "print(string1)\n",
        "print(string2)\n",
        "print(string3)"
      ]
    },
    {
      "cell_type": "markdown",
      "metadata": {
        "id": "362XbNSlLhXh"
      },
      "source": [
        "## **String Indexing and Slicing**\n",
        "You can access characters in a string using indexing (`[]`) and extract parts of a string using slicing (`[start:end:step]`)."
      ]
    },
    {
      "cell_type": "code",
      "execution_count": null,
      "metadata": {
        "id": "gpuiDu27LhXh"
      },
      "outputs": [],
      "source": [
        "text = \"Programming\"\n",
        "print(\"First character:\", text[0])  # P\n",
        "print(\"Last character:\", text[-1])  # g\n",
        "print(\"Slice first 5 chars:\", text[:5])  # Progr\n",
        "print(\"Every second letter:\", text[::2])  # Pormig"
      ]
    },
    {
      "cell_type": "markdown",
      "metadata": {
        "id": "WVcUcrFdLhXi"
      },
      "source": [
        "### ✏️ Try it Yourself!\n",
        "**Task:** Extract the word \"Python\" from the string below using slicing."
      ]
    },
    {
      "cell_type": "code",
      "execution_count": null,
      "metadata": {
        "id": "MqnG7GrBLhXi"
      },
      "outputs": [],
      "source": [
        "sentence = \"Learning Python is exciting!\"\n",
        "# Write your slicing code here\n",
        "python_word = sentence[...]  # Replace ... with correct slicing\n",
        "print(python_word)"
      ]
    },
    {
      "cell_type": "markdown",
      "metadata": {
        "id": "VtL46S9nLhXi"
      },
      "source": [
        "## **String Methods**\n",
        "Python provides several built-in string methods to modify and analyze text."
      ]
    },
    {
      "cell_type": "code",
      "execution_count": null,
      "metadata": {
        "id": "PL1NkDcuLhXi"
      },
      "outputs": [],
      "source": [
        "text = \"  Python is awesome!  \"\n",
        "print(\"Lowercase:\", text.lower())\n",
        "print(\"Uppercase:\", text.upper())\n",
        "print(\"Stripped:\", text.strip())\n",
        "print(\"Replaced:\", text.replace(\"awesome\", \"fun\"))\n",
        "print(\"Split:\", text.split())  # Converts string to list"
      ]
    },
    {
      "cell_type": "markdown",
      "metadata": {
        "id": "EeJ2c0JkLhXi"
      },
      "source": [
        "### ✏️ Try it Yourself!\n",
        "**Task:** Given the string `email = \"student@example.com\"`, extract and print only the username (before `@`)."
      ]
    },
    {
      "cell_type": "code",
      "execution_count": null,
      "metadata": {
        "id": "leivE5UELhXi"
      },
      "outputs": [],
      "source": [
        "email = \"student@example.com\"\n",
        "# Write your code here to extract the username\n",
        "username = email[...]  # Replace ... with correct method\n",
        "print(username)"
      ]
    },
    {
      "cell_type": "markdown",
      "metadata": {
        "id": "JaOeDEHGLhXj"
      },
      "source": [
        "## **String Formatting**\n",
        "You can format strings using **f-strings**, `.format()`, or `%` formatting."
      ]
    },
    {
      "cell_type": "code",
      "execution_count": null,
      "metadata": {
        "id": "IETwr3RaLhXj"
      },
      "outputs": [],
      "source": [
        "name = \"Alice\"\n",
        "age = 25\n",
        "print(f\"My name is {name} and I am {age} years old.\")"
      ]
    },
    {
      "cell_type": "markdown",
      "metadata": {
        "id": "xXzSY48gLhXj"
      },
      "source": [
        "## **Looping Through Strings**\n",
        "You can iterate over a string using a `for` loop."
      ]
    },
    {
      "cell_type": "code",
      "execution_count": null,
      "metadata": {
        "id": "0Ff7cySVLhXj"
      },
      "outputs": [],
      "source": [
        "text = \"Python\"\n",
        "for char in text:\n",
        "    print(char)"
      ]
    },
    {
      "cell_type": "markdown",
      "metadata": {
        "id": "hxCTozWwLhXj"
      },
      "source": [
        "### ✏️ Try it Yourself!\n",
        "**Task:** Count the number of vowels in a given string."
      ]
    },
    {
      "cell_type": "code",
      "execution_count": null,
      "metadata": {
        "id": "C_YZTyACLhXj"
      },
      "outputs": [],
      "source": [
        "text = \"Programming is fun!\"\n",
        "# Write your code here to count vowels\n",
        "vowel_count = 0\n",
        "for char in text:\n",
        "    if char in \"aeiouAEIOU\":\n",
        "        vowel_count += 1\n",
        "print(\"Number of vowels:\", vowel_count)"
      ]
    },
    {
      "cell_type": "markdown",
      "metadata": {
        "id": "X0Rh4wUkLhXj"
      },
      "source": [
        "---\n",
        "## 🎉 **Congratulations!** 🎉 You've *(started)* learning Strings in Python!\n",
        "\n",
        "In this tutorial, we covered:\n",
        "- String creation and properties\n",
        "- Indexing, slicing, and methods\n",
        "- Formatting and looping through strings\n",
        "\n",
        "**Now try experimenting with your own string operations**"
      ]
    }
  ],
  "metadata": {
    "kernelspec": {
      "display_name": "Python 3",
      "language": "python",
      "name": "python3"
    },
    "language_info": {
      "codemirror_mode": {
        "name": "ipython",
        "version": 3
      },
      "file_extension": ".py",
      "mimetype": "text/x-python",
      "name": "python",
      "nbconvert_exporter": "python",
      "pygments_lexer": "ipython3",
      "version": "3.7.10"
    },
    "colab": {
      "provenance": [],
      "include_colab_link": true
    }
  },
  "nbformat": 4,
  "nbformat_minor": 0
}