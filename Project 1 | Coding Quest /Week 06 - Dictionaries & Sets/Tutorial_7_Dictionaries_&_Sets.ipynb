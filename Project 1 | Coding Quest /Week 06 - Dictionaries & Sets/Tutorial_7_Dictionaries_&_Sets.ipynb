{
  "cells": [
    {
      "cell_type": "markdown",
      "metadata": {
        "colab_type": "text",
        "id": "view-in-github"
      },
      "source": [
        "<a href=\"https://colab.research.google.com/github/tapijelly/CST182-1033505/blob/main/Tutorial_7_Dictionaries_%26_Sets.ipynb\" target=\"_parent\"><img src=\"https://colab.research.google.com/assets/colab-badge.svg\" alt=\"Open In Colab\"/></a>"
      ]
    },
    {
      "cell_type": "markdown",
      "metadata": {
        "id": "h7roITOPgVZ6"
      },
      "source": [
        "\n",
        "\n",
        "\n",
        "# **TUTORIAL #7 - Dictionaries & Sets**\n",
        "<br/>\n",
        "\n",
        "\n",
        "\n",
        "\n",
        "\n"
      ]
    },
    {
      "cell_type": "markdown",
      "metadata": {
        "id": "j39qU2KEJ8Uu"
      },
      "source": [
        "In this tutorial, we will be revise the main topics covered in dictionaries & sets.\n",
        "\n",
        "> **Note:** *For a comprehensive understanding please refer to the materials on the LMS*"
      ]
    },
    {
      "cell_type": "markdown",
      "metadata": {
        "id": "HAhssq8Hr0Jn"
      },
      "source": [
        "<br/>"
      ]
    },
    {
      "cell_type": "markdown",
      "metadata": {
        "id": "0ZvitM5cI9EK"
      },
      "source": []
    },
    {
      "cell_type": "markdown",
      "metadata": {
        "id": "-GAXHau1oAMK"
      },
      "source": [
        "## **#1. Dictionaries**\n",
        "---\n",
        "\n",
        "Dictionaries are another data structure avaiable in Python. They are similar to lists in the fact they can store data, however, differ in that they are in the format of `key:value` pairs (rather than values with associated indicies)"
      ]
    },
    {
      "cell_type": "markdown",
      "metadata": {
        "id": "Gv_oPq7ExgjK"
      },
      "source": [
        "### **Basics**\n",
        "\n",
        "\n",
        "We can set up a dictionary by simply assigning key:value pairs:"
      ]
    },
    {
      "cell_type": "code",
      "execution_count": null,
      "metadata": {
        "id": "v9xYp4ySBHks"
      },
      "outputs": [],
      "source": [
        "my_dict = {\n",
        "    \"name\": \"Luke\",\n",
        "    \"age\": 33,\n",
        "    \"Occupation\": \"Educator\"\n",
        "}"
      ]
    },
    {
      "cell_type": "markdown",
      "metadata": {
        "id": "lQS8F7I3BMYg"
      },
      "source": [
        "and print the list via"
      ]
    },
    {
      "cell_type": "code",
      "execution_count": null,
      "metadata": {
        "colab": {
          "base_uri": "https://localhost:8080/"
        },
        "id": "YVOtdwycBN8_",
        "outputId": "21fc96f1-2a4d-4d91-d7d1-c1b10264a991"
      },
      "outputs": [
        {
          "name": "stdout",
          "output_type": "stream",
          "text": [
            "{'name': 'Luke', 'age': 33, 'Occupation': 'Educator'}\n"
          ]
        }
      ],
      "source": [
        "print(my_dict)"
      ]
    },
    {
      "cell_type": "markdown",
      "metadata": {
        "id": "Z67tf9npBQPV"
      },
      "source": [
        "or print a specific value in the list via index"
      ]
    },
    {
      "cell_type": "code",
      "execution_count": null,
      "metadata": {
        "colab": {
          "base_uri": "https://localhost:8080/"
        },
        "id": "UDekIoc5BPXn",
        "outputId": "8b0fd056-2ccb-451b-f611-74413ae1d2dd"
      },
      "outputs": [
        {
          "name": "stdout",
          "output_type": "stream",
          "text": [
            "Luke\n"
          ]
        }
      ],
      "source": [
        "print(my_dict[\"name\"])"
      ]
    },
    {
      "cell_type": "markdown",
      "metadata": {
        "id": "XASv2WpqChUh"
      },
      "source": [
        "### **Dictionary Manipulative Functions**\n",
        "\n",
        "---\n",
        "<br/>\n",
        "\n",
        "We can use a variety of functions to manipulate the data in our dictionaries"
      ]
    },
    {
      "cell_type": "markdown",
      "metadata": {
        "id": "igh09XYeCqDk"
      },
      "source": [
        "#### **Add values**\n",
        "\n",
        "We can add values by simply assigning a new key:value pair."
      ]
    },
    {
      "cell_type": "code",
      "execution_count": null,
      "metadata": {
        "colab": {
          "base_uri": "https://localhost:8080/"
        },
        "id": "876pBE3xCoST",
        "outputId": "8da74cbd-dcfb-4374-beb4-9fe3f426b86a"
      },
      "outputs": [
        {
          "name": "stdout",
          "output_type": "stream",
          "text": [
            "{'name': 'Luke', 'age': 33, 'Occupation': 'Educator'}\n",
            "{'name': 'Luke', 'age': 33, 'Occupation': 'Educator', 'height': 1.87}\n"
          ]
        }
      ],
      "source": [
        "print(my_dict)\n",
        "\n",
        "my_dict[\"height\"] = 1.87\n",
        "print(my_dict)"
      ]
    },
    {
      "cell_type": "markdown",
      "metadata": {
        "id": "S_6a8MJmC3BY"
      },
      "source": [
        "#### **Update Values**\n",
        "\n",
        "We can update values by simply setting the key of the dictionary to a new value"
      ]
    },
    {
      "cell_type": "code",
      "execution_count": null,
      "metadata": {
        "colab": {
          "base_uri": "https://localhost:8080/"
        },
        "id": "IKaGpsg6C-ws",
        "outputId": "e83a6606-3325-4377-9b4e-acff2a171079"
      },
      "outputs": [
        {
          "name": "stdout",
          "output_type": "stream",
          "text": [
            "{'name': 'Luke', 'age': 33, 'Occupation': 'Educator', 'height': 1.87}\n",
            "{'name': 'Luke', 'age': 99, 'Occupation': 'Educator', 'height': 1.87}\n"
          ]
        }
      ],
      "source": [
        "print(my_dict)\n",
        "\n",
        "my_dict[\"age\"] = 99\n",
        "print(my_dict)"
      ]
    },
    {
      "cell_type": "markdown",
      "metadata": {
        "id": "eX991RlrDcmL"
      },
      "source": [
        "#### **Delete Values** | *via key*\n",
        "\n",
        "We can delete values via the keyword `del`"
      ]
    },
    {
      "cell_type": "code",
      "execution_count": null,
      "metadata": {
        "colab": {
          "base_uri": "https://localhost:8080/"
        },
        "id": "uVXhtXl9DfOX",
        "outputId": "1eb4a844-e412-49fd-fa5c-8f1d73f80b91"
      },
      "outputs": [
        {
          "name": "stdout",
          "output_type": "stream",
          "text": [
            "{'name': 'Luke', 'age': 99, 'Occupation': 'Educator', 'height': 1.87}\n",
            "{'name': 'Luke', 'age': 99, 'Occupation': 'Educator'}\n"
          ]
        }
      ],
      "source": [
        "print(my_dict)\n",
        "\n",
        "del my_dict[\"height\"]\n",
        "print(my_dict)"
      ]
    },
    {
      "cell_type": "markdown",
      "metadata": {
        "id": "JjPT5mCDI_lW"
      },
      "source": [
        "## **#2. Sets**\n",
        "---\n",
        "\n",
        "Sets are another data structure avaiable in Python. The difference is that sets do not allow duplicate values, and they also have some additional functions for comparing two sets\n"
      ]
    },
    {
      "cell_type": "markdown",
      "metadata": {
        "id": "9zKfu3usJQhi"
      },
      "source": [
        "### **Basics**\n",
        "\n",
        "\n",
        "We can set up a set by simply passing values between curly braces (similar to a dictionary - but here we do not pass key:value pairs)"
      ]
    },
    {
      "cell_type": "code",
      "execution_count": null,
      "metadata": {
        "id": "bIu6bj8aJQhj"
      },
      "outputs": [],
      "source": [
        "my_set = {\"Apple\", \"Banana\", \"Orange\"}"
      ]
    },
    {
      "cell_type": "markdown",
      "metadata": {
        "id": "EvBQa6jhJQhj"
      },
      "source": [
        "and print the set via"
      ]
    },
    {
      "cell_type": "code",
      "execution_count": null,
      "metadata": {
        "colab": {
          "base_uri": "https://localhost:8080/"
        },
        "id": "YqOzfwKOJQhj",
        "outputId": "816fcd9a-f72e-411a-fccc-af6a5f21fc36"
      },
      "outputs": [
        {
          "name": "stdout",
          "output_type": "stream",
          "text": [
            "{'Banana', 'Apple', 'Orange'}\n"
          ]
        }
      ],
      "source": [
        "print(my_set)"
      ]
    },
    {
      "cell_type": "markdown",
      "metadata": {
        "id": "okYMKkH1JQhk"
      },
      "source": [
        "### **Set Manipulative Functions**\n",
        "\n",
        "---\n",
        "<br/>\n",
        "\n",
        "We can use a variety of functions to manipulate the data in our sets"
      ]
    },
    {
      "cell_type": "markdown",
      "metadata": {
        "id": "xzBfFOPJJQhk"
      },
      "source": [
        "#### **Add values**\n",
        "\n",
        "We can add values via the `add()` method"
      ]
    },
    {
      "cell_type": "code",
      "execution_count": null,
      "metadata": {
        "colab": {
          "base_uri": "https://localhost:8080/"
        },
        "id": "znJikzafJQhk",
        "outputId": "2b257016-ca35-4ee8-99f4-5cbe7a698cd8"
      },
      "outputs": [
        {
          "name": "stdout",
          "output_type": "stream",
          "text": [
            "{'Banana', 'Apple', 'Orange'}\n",
            "{'Banana', 'Apple', 'Mango', 'Orange'}\n"
          ]
        }
      ],
      "source": [
        "print(my_set)\n",
        "\n",
        "my_set.add(\"Mango\")\n",
        "print(my_set)"
      ]
    },
    {
      "cell_type": "markdown",
      "metadata": {
        "id": "QCfHTnA6JQhl"
      },
      "source": [
        "#### **Delete Values** | *via value*\n",
        "\n",
        "We can delete values by their index via the `remove()` method"
      ]
    },
    {
      "cell_type": "code",
      "execution_count": null,
      "metadata": {
        "colab": {
          "base_uri": "https://localhost:8080/"
        },
        "id": "Qw7mVuBUJQhl",
        "outputId": "a3410799-8815-447e-c539-caf71d714c7a"
      },
      "outputs": [
        {
          "name": "stdout",
          "output_type": "stream",
          "text": [
            "{'Banana', 'Apple', 'Mango', 'Orange'}\n",
            "{'Banana', 'Mango', 'Orange'}\n"
          ]
        }
      ],
      "source": [
        "print(my_set)\n",
        "\n",
        "my_set.remove(\"Apple\")\n",
        "print(my_set)"
      ]
    },
    {
      "cell_type": "markdown",
      "metadata": {
        "id": "SmdTC9r9Kk07"
      },
      "source": [
        "### **Set Additional Functions**\n",
        "\n",
        "---\n",
        "<br/>\n",
        "\n",
        "There are additional functions in sets to check commonalities or differences between two sets"
      ]
    },
    {
      "cell_type": "markdown",
      "metadata": {
        "id": "Mfyp0vJsKugG"
      },
      "source": [
        "### **`Union()`**\n",
        "\n",
        "\n",
        "The `union()` method allows us to join two sets together"
      ]
    },
    {
      "cell_type": "code",
      "execution_count": null,
      "metadata": {
        "colab": {
          "base_uri": "https://localhost:8080/"
        },
        "id": "gT8xOig0Ky8d",
        "outputId": "02c7ac8e-00cc-4c08-ebd7-4fc6abbf9b96"
      },
      "outputs": [
        {
          "name": "stdout",
          "output_type": "stream",
          "text": [
            "{'Banana', 'Mango', 'Orange'}\n",
            "{'Banana', 'Pear'}\n",
            "\n",
            "------------- union() ---------------\n",
            "\n"
          ]
        },
        {
          "data": {
            "text/plain": [
              "{'Banana', 'Mango', 'Orange', 'Pear'}"
            ]
          },
          "execution_count": 24,
          "metadata": {},
          "output_type": "execute_result"
        }
      ],
      "source": [
        "new_set = {\"Pear\", \"Banana\"}\n",
        "\n",
        "print(my_set)\n",
        "print(new_set)\n",
        "\n",
        "print(\"\\n------------- union() ---------------\\n\")\n",
        "\n",
        "my_set.union(new_set)"
      ]
    },
    {
      "cell_type": "markdown",
      "metadata": {
        "id": "G8_HSjYLLU6b"
      },
      "source": [
        "### **`Intersection()`**\n",
        "\n",
        "\n",
        "The `intersection()` method allows us to see which values (if any) are common amongst both sets"
      ]
    },
    {
      "cell_type": "code",
      "execution_count": null,
      "metadata": {
        "colab": {
          "base_uri": "https://localhost:8080/"
        },
        "id": "FPrscJ03LiTz",
        "outputId": "9a892dbd-212c-425a-978a-e128430c7476"
      },
      "outputs": [
        {
          "name": "stdout",
          "output_type": "stream",
          "text": [
            "{'Banana', 'Mango', 'Orange'}\n",
            "{'Banana', 'Pear'}\n",
            "\n",
            "------------- intersection() ---------------\n",
            "\n"
          ]
        },
        {
          "data": {
            "text/plain": [
              "{'Banana'}"
            ]
          },
          "execution_count": 25,
          "metadata": {},
          "output_type": "execute_result"
        }
      ],
      "source": [
        "print(my_set)\n",
        "print(new_set)\n",
        "\n",
        "print(\"\\n------------- intersection() ---------------\\n\")\n",
        "\n",
        "my_set.intersection(new_set)"
      ]
    },
    {
      "cell_type": "markdown",
      "metadata": {
        "id": "PpL0vPfOLdM2"
      },
      "source": [
        "### **`Difference()`**\n",
        "\n",
        "\n",
        "The `difference()` method allows us to see which values appear in the first set but not the second"
      ]
    },
    {
      "cell_type": "code",
      "execution_count": null,
      "metadata": {
        "colab": {
          "base_uri": "https://localhost:8080/"
        },
        "id": "rkYw1fpaLu9w",
        "outputId": "bb1d6987-888d-4559-b5e5-e772da1ae060"
      },
      "outputs": [
        {
          "name": "stdout",
          "output_type": "stream",
          "text": [
            "{'Banana', 'Mango', 'Orange'}\n",
            "{'Banana', 'Pear'}\n",
            "\n",
            "------------- difference() ---------------\n",
            "\n",
            "{'Mango', 'Orange'} \t(my_set.difference(new_set)\n",
            "{'Pear'} \t\t(new_set.difference(my_set)\n"
          ]
        }
      ],
      "source": [
        "print(my_set)\n",
        "print(new_set)\n",
        "\n",
        "print(\"\\n------------- difference() ---------------\\n\")\n",
        "\n",
        "print(my_set.difference(new_set), \"\\t(my_set.difference(new_set)\")\n",
        "print(new_set.difference(my_set), \"\\t\\t(new_set.difference(my_set)\")\n"
      ]
    },
    {
      "cell_type": "markdown",
      "metadata": {
        "id": "wLsdv7ooLub5"
      },
      "source": [
        "<br/>"
      ]
    },
    {
      "cell_type": "markdown",
      "metadata": {
        "id": "LTfa8ImBtsha"
      },
      "source": [
        "\n",
        "##  **#3.YOUR TURN**\n",
        "---"
      ]
    },
    {
      "cell_type": "markdown",
      "metadata": {
        "id": "2uifW04Is2EE"
      },
      "source": [
        "### **Program #1 |** A Simple Student Class &nbsp; **<i>[EXTENDED #2]</i>**\n",
        "---\n",
        "\n",
        "\n",
        "><table>\n",
        "\n",
        "Take the *Simple Student Class* tutorial from last week and paste your code below.\n",
        "></table>\n",
        "\n",
        ">><table>\n",
        "<small>\n",
        "In this program we will create a simple student class and a few objects.\n",
        "<br/><br/>\n",
        "The student class should have the following:<br/>\n",
        "\n",
        "Properties\n",
        "* `name` the name of the student\n",
        "* `marks` a list of final marks the student has been awarded\n",
        "\n",
        "\n",
        "Methods\n",
        "* `add_mark()` which takes a single value and adds it to the list of marks\n",
        "* `calculate_GPA()` which gets the average from the list of marks\n",
        "* `print_student()` which nicely prints a transcript for the student (name, marks, GPA)</small>\n",
        ">></table>\n",
        "\n",
        "><table>\n",
        "\n",
        "#### Your Task\n",
        "\n",
        "\n",
        "1.  Update the program to read in the data from `student_marks.txt` file (rather than the current data hard-coded in the program) into a List\n",
        "\n",
        "2. From there, you need to calculate the GPA for each student, and then print to a new file (`GPA_List.txt`) each student's name alongside their associated GPA in descending order.\n",
        "\n",
        "></table>\n",
        "\n",
        "<br/>\n",
        "\n",
        "### **Your Task**\n",
        "\n",
        "In the new program, use a dictionary to hold the data:\n",
        "* `name` holds the student's name\n",
        "* `scores` is a list that contains each student's scores"
      ]
    },
    {
      "cell_type": "code",
      "execution_count": null,
      "metadata": {
        "id": "6_CTo-8Rjbu3"
      },
      "outputs": [],
      "source": [
        "# Student Name:   Leela Aloysius\n",
        "# Student Number: 1033505\n",
        "# Date Modified: 21/03/2025\n",
        "\n",
        "# TODO: Insert code from simple student class from last week's tutorial here"
      ]
    },
    {
      "cell_type": "markdown",
      "metadata": {
        "id": "T1VrXym6tjGs"
      },
      "source": [
        "<br/><BR/>"
      ]
    },
    {
      "cell_type": "markdown",
      "metadata": {
        "id": "N-XTusSvusCo"
      },
      "source": [
        "### **Submission**\n",
        "---\n",
        "\n",
        "When you believe you have the program correctly working, please run the program and enter valid details for height and weight (you don't need to use your own if you do not want to) to get the output of BMI to show.\n",
        "<br/><br/>\n",
        "When you are ready to submit please go to `File` -> `Print` -> `Print PDF` and then upload and submit in the LMS.\n",
        "\n",
        "Please save your file to GitHub via: `File` -> `Save a copy in GitHub`"
      ]
    }
  ],
  "metadata": {
    "colab": {
      "include_colab_link": true,
      "provenance": [],
      "toc_visible": true
    },
    "kernelspec": {
      "display_name": "Python 3",
      "name": "python3"
    },
    "language_info": {
      "name": "python"
    }
  },
  "nbformat": 4,
  "nbformat_minor": 0
}
